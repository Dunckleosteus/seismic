{
  "nbformat": 4,
  "nbformat_minor": 0,
  "metadata": {
    "colab": {
      "provenance": [],
      "include_colab_link": true
    },
    "kernelspec": {
      "name": "python3",
      "display_name": "Python 3"
    },
    "language_info": {
      "name": "python"
    }
  },
  "cells": [
    {
      "cell_type": "markdown",
      "metadata": {
        "id": "view-in-github",
        "colab_type": "text"
      },
      "source": [
        "<a href=\"https://colab.research.google.com/github/Dunckleosteus/seismic/blob/Penis/seismic.ipynb\" target=\"_parent\"><img src=\"https://colab.research.google.com/assets/colab-badge.svg\" alt=\"Open In Colab\"/></a>"
      ]
    },
    {
      "cell_type": "code",
      "source": [
        "!pip install bruges"
      ],
      "metadata": {
        "colab": {
          "base_uri": "https://localhost:8080/"
        },
        "id": "asG1rVTMwmxt",
        "outputId": "03ec1e9e-b14a-4dfb-b4c8-d0f2a739c6dd"
      },
      "execution_count": 1,
      "outputs": [
        {
          "output_type": "stream",
          "name": "stdout",
          "text": [
            "Collecting bruges\n",
            "  Downloading bruges-0.5.4-py3-none-any.whl.metadata (3.1 kB)\n",
            "Requirement already satisfied: numpy in /usr/local/lib/python3.11/dist-packages (from bruges) (2.0.2)\n",
            "Requirement already satisfied: scipy in /usr/local/lib/python3.11/dist-packages (from bruges) (1.14.1)\n",
            "Downloading bruges-0.5.4-py3-none-any.whl (94 kB)\n",
            "\u001b[2K   \u001b[90m━━━━━━━━━━━━━━━━━━━━━━━━━━━━━━━━━━━━━━━━\u001b[0m \u001b[32m94.7/94.7 kB\u001b[0m \u001b[31m3.4 MB/s\u001b[0m eta \u001b[36m0:00:00\u001b[0m\n",
            "\u001b[?25hInstalling collected packages: bruges\n",
            "Successfully installed bruges-0.5.4\n"
          ]
        }
      ]
    },
    {
      "cell_type": "code",
      "source": [
        "import pandas as pd\n",
        "import numpy as np\n",
        "import matplotlib.pyplot as plt\n",
        "import seaborn as sns\n",
        "import bruges\n",
        "import bruges.filters as bf"
      ],
      "metadata": {
        "id": "9uLydhHyxqT5"
      },
      "execution_count": 2,
      "outputs": []
    },
    {
      "cell_type": "code",
      "execution_count": 3,
      "metadata": {
        "id": "b_j_aR2TgKzU",
        "colab": {
          "base_uri": "https://localhost:8080/"
        },
        "outputId": "8a67a4fa-a3fb-4a72-d0db-f5ec9fcc76d7"
      },
      "outputs": [
        {
          "output_type": "stream",
          "name": "stdout",
          "text": [
            "rm: cannot remove 'data.zip': No such file or directory\n",
            "rm: cannot remove 'data': No such file or directory\n",
            "--2025-03-21 12:52:59--  https://github.com/Dunckleosteus/seismic/raw/18908e9e23b56529c5744c96fac2a5216cd298cd/data.zip\n",
            "Resolving github.com (github.com)... 140.82.113.4\n",
            "Connecting to github.com (github.com)|140.82.113.4|:443... connected.\n",
            "HTTP request sent, awaiting response... 302 Found\n",
            "Location: https://raw.githubusercontent.com/Dunckleosteus/seismic/18908e9e23b56529c5744c96fac2a5216cd298cd/data.zip [following]\n",
            "--2025-03-21 12:52:59--  https://raw.githubusercontent.com/Dunckleosteus/seismic/18908e9e23b56529c5744c96fac2a5216cd298cd/data.zip\n",
            "Resolving raw.githubusercontent.com (raw.githubusercontent.com)... 185.199.108.133, 185.199.109.133, 185.199.110.133, ...\n",
            "Connecting to raw.githubusercontent.com (raw.githubusercontent.com)|185.199.108.133|:443... connected.\n",
            "HTTP request sent, awaiting response... 200 OK\n",
            "Length: 1512 (1.5K) [application/zip]\n",
            "Saving to: ‘data.zip’\n",
            "\n",
            "data.zip            100%[===================>]   1.48K  --.-KB/s    in 0s      \n",
            "\n",
            "2025-03-21 12:52:59 (35.3 MB/s) - ‘data.zip’ saved [1512/1512]\n",
            "\n",
            "Archive:  data.zip\n",
            "   creating: data/\n",
            "  inflating: data/rhob.csv           \n",
            "  inflating: data/vph.csv            \n",
            "  inflating: data/y.csv              \n",
            "  inflating: data/x.csv              \n"
          ]
        }
      ],
      "source": [
        "!rm data.zip\n",
        "!rm -r data\n",
        "!wget https://github.com/Dunckleosteus/seismic/raw/18908e9e23b56529c5744c96fac2a5216cd298cd/data.zip\n",
        "!unzip data.zip"
      ]
    },
    {
      "cell_type": "code",
      "source": [
        "rhob = pd.read_csv('data/rhob.csv', index_col=0)\n",
        "rhob"
      ],
      "metadata": {
        "colab": {
          "base_uri": "https://localhost:8080/",
          "height": 507
        },
        "id": "bBvI0uf6xmcW",
        "outputId": "40d050aa-939c-4f9a-90b5-e5a3641eb636"
      },
      "execution_count": 4,
      "outputs": [
        {
          "output_type": "execute_result",
          "data": {
            "text/plain": [
              "      0;2300 0;2300.1 0;2300.2 0;2300.3 0;2300.4 0;2300.5 0;2300.6 0;2300.7  \\\n",
              "2300                                                                          \n",
              "2300  0;2300   0;2300   0;2300   0;2300   0;2300   0;2300   0;2300   0;2300   \n",
              "2300  0;2300   0;2300   0;2300   0;2300   0;2300   0;2300   0;2300   0;2300   \n",
              "2300  0;2300   0;2300   0;2300   0;2300   0;2300   0;2300   0;2300   0;2300   \n",
              "2300  0;2300   0;2300   0;2300   0;2300   0;2300   0;2300   0;2300   0;2300   \n",
              "2300  0;2300   0;2300   0;2300   0;2300   0;2300   0;2300   0;2300   0;2300   \n",
              "2300  0;2300   0;2300   0;2300   0;2300   0;2300   0;2300   0;2300   0;2300   \n",
              "2300  0;2300   0;2300   0;2300   0;2300   0;2300   0;2300   0;2300   0;2300   \n",
              "2300  0;2300   0;2300   0;2300   0;2300   0;2300   0;2300   0;2300   0;2300   \n",
              "2300  0;2300   0;2300   0;2300   0;2300   0;2300   0;2300   0;2300   0;2300   \n",
              "2300  0;2300   0;2300   0;2300   0;2300   0;2300   0;2300   0;2300   0;2300   \n",
              "2300  0;2300   0;2300   0;2300   0;2300   0;2300   0;2300   0;2300   0;2300   \n",
              "2300  0;2300   0;2300   0;2300   0;2300   0;2300   0;2300   0;2300   0;2300   \n",
              "\n",
              "     0;2300.8 0;2300.9  ... 0;2300.21 0;2300.22 0;2300.23 0;2300.24 0;2300.25  \\\n",
              "2300                    ...                                                     \n",
              "2300   0;2300   0;2300  ...    0;2300    0;2300    0;2300    0;2300    0;2300   \n",
              "2300   0;2300   0;2300  ...    0;2300    0;2300    0;2300    0;2300    0;2300   \n",
              "2300   0;2300   0;2300  ...    0;2300    0;2300    0;2300    0;2300    0;2300   \n",
              "2300   0;2300   0;2300  ...    0;2300    0;2300    0;2300    0;2300    0;2300   \n",
              "2300   0;2300   0;2300  ...    0;2300    0;2300    0;2300    0;2300    0;2300   \n",
              "2300   0;2300   0;2300  ...    0;2300    0;2300    0;2300    0;2300    0;2300   \n",
              "2300   0;2300   0;2300  ...    0;2300    0;2300    0;2300    0;2300    0;2300   \n",
              "2300   0;2300   0;2300  ...    0;2300    0;2300    0;2300    0;2300    0;2300   \n",
              "2300   0;2300   0;2300  ...    0;2300    0;2300    0;2300    0;2300    0;2300   \n",
              "2300   0;2300   0;2300  ...    0;2300    0;2300    0;2300    0;2300    0;2300   \n",
              "2300   0;2300   0;2300  ...    0;2300    0;2300    0;2300    0;2300    0;2300   \n",
              "2300   0;2300   0;2300  ...    0;2300    0;2300    0;2300    0;2300    0;2300   \n",
              "\n",
              "     0;2300.26 0;2300.27 0;2300.28 0;2300.29  0  \n",
              "2300                                             \n",
              "2300    0;2300    0;2300    0;2300    0;2300  0  \n",
              "2300    0;2300    0;2300    0;2300    0;2300  0  \n",
              "2300    0;2300    0;2300    0;2300    0;2300  0  \n",
              "2300    0;2300    0;2300    0;2300    0;2300  0  \n",
              "2300    0;2300    0;2300    0;2300    0;2300  0  \n",
              "2300    0;2300    0;2300    0;2300    0;2300  0  \n",
              "2300    0;2300    0;2300    0;2300    0;2300  0  \n",
              "2300    0;2300    0;2300    0;2300    0;2300  0  \n",
              "2300    0;2300    0;2300    0;2300    0;2300  0  \n",
              "2300    0;2300    0;2300    0;2300    0;2300  0  \n",
              "2300    0;2300    0;2300    0;2300    0;2300  0  \n",
              "2300    0;2300    0;2300    0;2300    0;2300  0  \n",
              "\n",
              "[12 rows x 31 columns]"
            ],
            "text/html": [
              "\n",
              "  <div id=\"df-79108c84-e530-449a-8227-8b994e41112d\" class=\"colab-df-container\">\n",
              "    <div>\n",
              "<style scoped>\n",
              "    .dataframe tbody tr th:only-of-type {\n",
              "        vertical-align: middle;\n",
              "    }\n",
              "\n",
              "    .dataframe tbody tr th {\n",
              "        vertical-align: top;\n",
              "    }\n",
              "\n",
              "    .dataframe thead th {\n",
              "        text-align: right;\n",
              "    }\n",
              "</style>\n",
              "<table border=\"1\" class=\"dataframe\">\n",
              "  <thead>\n",
              "    <tr style=\"text-align: right;\">\n",
              "      <th></th>\n",
              "      <th>0;2300</th>\n",
              "      <th>0;2300.1</th>\n",
              "      <th>0;2300.2</th>\n",
              "      <th>0;2300.3</th>\n",
              "      <th>0;2300.4</th>\n",
              "      <th>0;2300.5</th>\n",
              "      <th>0;2300.6</th>\n",
              "      <th>0;2300.7</th>\n",
              "      <th>0;2300.8</th>\n",
              "      <th>0;2300.9</th>\n",
              "      <th>...</th>\n",
              "      <th>0;2300.21</th>\n",
              "      <th>0;2300.22</th>\n",
              "      <th>0;2300.23</th>\n",
              "      <th>0;2300.24</th>\n",
              "      <th>0;2300.25</th>\n",
              "      <th>0;2300.26</th>\n",
              "      <th>0;2300.27</th>\n",
              "      <th>0;2300.28</th>\n",
              "      <th>0;2300.29</th>\n",
              "      <th>0</th>\n",
              "    </tr>\n",
              "    <tr>\n",
              "      <th>2300</th>\n",
              "      <th></th>\n",
              "      <th></th>\n",
              "      <th></th>\n",
              "      <th></th>\n",
              "      <th></th>\n",
              "      <th></th>\n",
              "      <th></th>\n",
              "      <th></th>\n",
              "      <th></th>\n",
              "      <th></th>\n",
              "      <th></th>\n",
              "      <th></th>\n",
              "      <th></th>\n",
              "      <th></th>\n",
              "      <th></th>\n",
              "      <th></th>\n",
              "      <th></th>\n",
              "      <th></th>\n",
              "      <th></th>\n",
              "      <th></th>\n",
              "      <th></th>\n",
              "    </tr>\n",
              "  </thead>\n",
              "  <tbody>\n",
              "    <tr>\n",
              "      <th>2300</th>\n",
              "      <td>0;2300</td>\n",
              "      <td>0;2300</td>\n",
              "      <td>0;2300</td>\n",
              "      <td>0;2300</td>\n",
              "      <td>0;2300</td>\n",
              "      <td>0;2300</td>\n",
              "      <td>0;2300</td>\n",
              "      <td>0;2300</td>\n",
              "      <td>0;2300</td>\n",
              "      <td>0;2300</td>\n",
              "      <td>...</td>\n",
              "      <td>0;2300</td>\n",
              "      <td>0;2300</td>\n",
              "      <td>0;2300</td>\n",
              "      <td>0;2300</td>\n",
              "      <td>0;2300</td>\n",
              "      <td>0;2300</td>\n",
              "      <td>0;2300</td>\n",
              "      <td>0;2300</td>\n",
              "      <td>0;2300</td>\n",
              "      <td>0</td>\n",
              "    </tr>\n",
              "    <tr>\n",
              "      <th>2300</th>\n",
              "      <td>0;2300</td>\n",
              "      <td>0;2300</td>\n",
              "      <td>0;2300</td>\n",
              "      <td>0;2300</td>\n",
              "      <td>0;2300</td>\n",
              "      <td>0;2300</td>\n",
              "      <td>0;2300</td>\n",
              "      <td>0;2300</td>\n",
              "      <td>0;2300</td>\n",
              "      <td>0;2300</td>\n",
              "      <td>...</td>\n",
              "      <td>0;2300</td>\n",
              "      <td>0;2300</td>\n",
              "      <td>0;2300</td>\n",
              "      <td>0;2300</td>\n",
              "      <td>0;2300</td>\n",
              "      <td>0;2300</td>\n",
              "      <td>0;2300</td>\n",
              "      <td>0;2300</td>\n",
              "      <td>0;2300</td>\n",
              "      <td>0</td>\n",
              "    </tr>\n",
              "    <tr>\n",
              "      <th>2300</th>\n",
              "      <td>0;2300</td>\n",
              "      <td>0;2300</td>\n",
              "      <td>0;2300</td>\n",
              "      <td>0;2300</td>\n",
              "      <td>0;2300</td>\n",
              "      <td>0;2300</td>\n",
              "      <td>0;2300</td>\n",
              "      <td>0;2300</td>\n",
              "      <td>0;2300</td>\n",
              "      <td>0;2300</td>\n",
              "      <td>...</td>\n",
              "      <td>0;2300</td>\n",
              "      <td>0;2300</td>\n",
              "      <td>0;2300</td>\n",
              "      <td>0;2300</td>\n",
              "      <td>0;2300</td>\n",
              "      <td>0;2300</td>\n",
              "      <td>0;2300</td>\n",
              "      <td>0;2300</td>\n",
              "      <td>0;2300</td>\n",
              "      <td>0</td>\n",
              "    </tr>\n",
              "    <tr>\n",
              "      <th>2300</th>\n",
              "      <td>0;2300</td>\n",
              "      <td>0;2300</td>\n",
              "      <td>0;2300</td>\n",
              "      <td>0;2300</td>\n",
              "      <td>0;2300</td>\n",
              "      <td>0;2300</td>\n",
              "      <td>0;2300</td>\n",
              "      <td>0;2300</td>\n",
              "      <td>0;2300</td>\n",
              "      <td>0;2300</td>\n",
              "      <td>...</td>\n",
              "      <td>0;2300</td>\n",
              "      <td>0;2300</td>\n",
              "      <td>0;2300</td>\n",
              "      <td>0;2300</td>\n",
              "      <td>0;2300</td>\n",
              "      <td>0;2300</td>\n",
              "      <td>0;2300</td>\n",
              "      <td>0;2300</td>\n",
              "      <td>0;2300</td>\n",
              "      <td>0</td>\n",
              "    </tr>\n",
              "    <tr>\n",
              "      <th>2300</th>\n",
              "      <td>0;2300</td>\n",
              "      <td>0;2300</td>\n",
              "      <td>0;2300</td>\n",
              "      <td>0;2300</td>\n",
              "      <td>0;2300</td>\n",
              "      <td>0;2300</td>\n",
              "      <td>0;2300</td>\n",
              "      <td>0;2300</td>\n",
              "      <td>0;2300</td>\n",
              "      <td>0;2300</td>\n",
              "      <td>...</td>\n",
              "      <td>0;2300</td>\n",
              "      <td>0;2300</td>\n",
              "      <td>0;2300</td>\n",
              "      <td>0;2300</td>\n",
              "      <td>0;2300</td>\n",
              "      <td>0;2300</td>\n",
              "      <td>0;2300</td>\n",
              "      <td>0;2300</td>\n",
              "      <td>0;2300</td>\n",
              "      <td>0</td>\n",
              "    </tr>\n",
              "    <tr>\n",
              "      <th>2300</th>\n",
              "      <td>0;2300</td>\n",
              "      <td>0;2300</td>\n",
              "      <td>0;2300</td>\n",
              "      <td>0;2300</td>\n",
              "      <td>0;2300</td>\n",
              "      <td>0;2300</td>\n",
              "      <td>0;2300</td>\n",
              "      <td>0;2300</td>\n",
              "      <td>0;2300</td>\n",
              "      <td>0;2300</td>\n",
              "      <td>...</td>\n",
              "      <td>0;2300</td>\n",
              "      <td>0;2300</td>\n",
              "      <td>0;2300</td>\n",
              "      <td>0;2300</td>\n",
              "      <td>0;2300</td>\n",
              "      <td>0;2300</td>\n",
              "      <td>0;2300</td>\n",
              "      <td>0;2300</td>\n",
              "      <td>0;2300</td>\n",
              "      <td>0</td>\n",
              "    </tr>\n",
              "    <tr>\n",
              "      <th>2300</th>\n",
              "      <td>0;2300</td>\n",
              "      <td>0;2300</td>\n",
              "      <td>0;2300</td>\n",
              "      <td>0;2300</td>\n",
              "      <td>0;2300</td>\n",
              "      <td>0;2300</td>\n",
              "      <td>0;2300</td>\n",
              "      <td>0;2300</td>\n",
              "      <td>0;2300</td>\n",
              "      <td>0;2300</td>\n",
              "      <td>...</td>\n",
              "      <td>0;2300</td>\n",
              "      <td>0;2300</td>\n",
              "      <td>0;2300</td>\n",
              "      <td>0;2300</td>\n",
              "      <td>0;2300</td>\n",
              "      <td>0;2300</td>\n",
              "      <td>0;2300</td>\n",
              "      <td>0;2300</td>\n",
              "      <td>0;2300</td>\n",
              "      <td>0</td>\n",
              "    </tr>\n",
              "    <tr>\n",
              "      <th>2300</th>\n",
              "      <td>0;2300</td>\n",
              "      <td>0;2300</td>\n",
              "      <td>0;2300</td>\n",
              "      <td>0;2300</td>\n",
              "      <td>0;2300</td>\n",
              "      <td>0;2300</td>\n",
              "      <td>0;2300</td>\n",
              "      <td>0;2300</td>\n",
              "      <td>0;2300</td>\n",
              "      <td>0;2300</td>\n",
              "      <td>...</td>\n",
              "      <td>0;2300</td>\n",
              "      <td>0;2300</td>\n",
              "      <td>0;2300</td>\n",
              "      <td>0;2300</td>\n",
              "      <td>0;2300</td>\n",
              "      <td>0;2300</td>\n",
              "      <td>0;2300</td>\n",
              "      <td>0;2300</td>\n",
              "      <td>0;2300</td>\n",
              "      <td>0</td>\n",
              "    </tr>\n",
              "    <tr>\n",
              "      <th>2300</th>\n",
              "      <td>0;2300</td>\n",
              "      <td>0;2300</td>\n",
              "      <td>0;2300</td>\n",
              "      <td>0;2300</td>\n",
              "      <td>0;2300</td>\n",
              "      <td>0;2300</td>\n",
              "      <td>0;2300</td>\n",
              "      <td>0;2300</td>\n",
              "      <td>0;2300</td>\n",
              "      <td>0;2300</td>\n",
              "      <td>...</td>\n",
              "      <td>0;2300</td>\n",
              "      <td>0;2300</td>\n",
              "      <td>0;2300</td>\n",
              "      <td>0;2300</td>\n",
              "      <td>0;2300</td>\n",
              "      <td>0;2300</td>\n",
              "      <td>0;2300</td>\n",
              "      <td>0;2300</td>\n",
              "      <td>0;2300</td>\n",
              "      <td>0</td>\n",
              "    </tr>\n",
              "    <tr>\n",
              "      <th>2300</th>\n",
              "      <td>0;2300</td>\n",
              "      <td>0;2300</td>\n",
              "      <td>0;2300</td>\n",
              "      <td>0;2300</td>\n",
              "      <td>0;2300</td>\n",
              "      <td>0;2300</td>\n",
              "      <td>0;2300</td>\n",
              "      <td>0;2300</td>\n",
              "      <td>0;2300</td>\n",
              "      <td>0;2300</td>\n",
              "      <td>...</td>\n",
              "      <td>0;2300</td>\n",
              "      <td>0;2300</td>\n",
              "      <td>0;2300</td>\n",
              "      <td>0;2300</td>\n",
              "      <td>0;2300</td>\n",
              "      <td>0;2300</td>\n",
              "      <td>0;2300</td>\n",
              "      <td>0;2300</td>\n",
              "      <td>0;2300</td>\n",
              "      <td>0</td>\n",
              "    </tr>\n",
              "    <tr>\n",
              "      <th>2300</th>\n",
              "      <td>0;2300</td>\n",
              "      <td>0;2300</td>\n",
              "      <td>0;2300</td>\n",
              "      <td>0;2300</td>\n",
              "      <td>0;2300</td>\n",
              "      <td>0;2300</td>\n",
              "      <td>0;2300</td>\n",
              "      <td>0;2300</td>\n",
              "      <td>0;2300</td>\n",
              "      <td>0;2300</td>\n",
              "      <td>...</td>\n",
              "      <td>0;2300</td>\n",
              "      <td>0;2300</td>\n",
              "      <td>0;2300</td>\n",
              "      <td>0;2300</td>\n",
              "      <td>0;2300</td>\n",
              "      <td>0;2300</td>\n",
              "      <td>0;2300</td>\n",
              "      <td>0;2300</td>\n",
              "      <td>0;2300</td>\n",
              "      <td>0</td>\n",
              "    </tr>\n",
              "    <tr>\n",
              "      <th>2300</th>\n",
              "      <td>0;2300</td>\n",
              "      <td>0;2300</td>\n",
              "      <td>0;2300</td>\n",
              "      <td>0;2300</td>\n",
              "      <td>0;2300</td>\n",
              "      <td>0;2300</td>\n",
              "      <td>0;2300</td>\n",
              "      <td>0;2300</td>\n",
              "      <td>0;2300</td>\n",
              "      <td>0;2300</td>\n",
              "      <td>...</td>\n",
              "      <td>0;2300</td>\n",
              "      <td>0;2300</td>\n",
              "      <td>0;2300</td>\n",
              "      <td>0;2300</td>\n",
              "      <td>0;2300</td>\n",
              "      <td>0;2300</td>\n",
              "      <td>0;2300</td>\n",
              "      <td>0;2300</td>\n",
              "      <td>0;2300</td>\n",
              "      <td>0</td>\n",
              "    </tr>\n",
              "  </tbody>\n",
              "</table>\n",
              "<p>12 rows × 31 columns</p>\n",
              "</div>\n",
              "    <div class=\"colab-df-buttons\">\n",
              "\n",
              "  <div class=\"colab-df-container\">\n",
              "    <button class=\"colab-df-convert\" onclick=\"convertToInteractive('df-79108c84-e530-449a-8227-8b994e41112d')\"\n",
              "            title=\"Convert this dataframe to an interactive table.\"\n",
              "            style=\"display:none;\">\n",
              "\n",
              "  <svg xmlns=\"http://www.w3.org/2000/svg\" height=\"24px\" viewBox=\"0 -960 960 960\">\n",
              "    <path d=\"M120-120v-720h720v720H120Zm60-500h600v-160H180v160Zm220 220h160v-160H400v160Zm0 220h160v-160H400v160ZM180-400h160v-160H180v160Zm440 0h160v-160H620v160ZM180-180h160v-160H180v160Zm440 0h160v-160H620v160Z\"/>\n",
              "  </svg>\n",
              "    </button>\n",
              "\n",
              "  <style>\n",
              "    .colab-df-container {\n",
              "      display:flex;\n",
              "      gap: 12px;\n",
              "    }\n",
              "\n",
              "    .colab-df-convert {\n",
              "      background-color: #E8F0FE;\n",
              "      border: none;\n",
              "      border-radius: 50%;\n",
              "      cursor: pointer;\n",
              "      display: none;\n",
              "      fill: #1967D2;\n",
              "      height: 32px;\n",
              "      padding: 0 0 0 0;\n",
              "      width: 32px;\n",
              "    }\n",
              "\n",
              "    .colab-df-convert:hover {\n",
              "      background-color: #E2EBFA;\n",
              "      box-shadow: 0px 1px 2px rgba(60, 64, 67, 0.3), 0px 1px 3px 1px rgba(60, 64, 67, 0.15);\n",
              "      fill: #174EA6;\n",
              "    }\n",
              "\n",
              "    .colab-df-buttons div {\n",
              "      margin-bottom: 4px;\n",
              "    }\n",
              "\n",
              "    [theme=dark] .colab-df-convert {\n",
              "      background-color: #3B4455;\n",
              "      fill: #D2E3FC;\n",
              "    }\n",
              "\n",
              "    [theme=dark] .colab-df-convert:hover {\n",
              "      background-color: #434B5C;\n",
              "      box-shadow: 0px 1px 3px 1px rgba(0, 0, 0, 0.15);\n",
              "      filter: drop-shadow(0px 1px 2px rgba(0, 0, 0, 0.3));\n",
              "      fill: #FFFFFF;\n",
              "    }\n",
              "  </style>\n",
              "\n",
              "    <script>\n",
              "      const buttonEl =\n",
              "        document.querySelector('#df-79108c84-e530-449a-8227-8b994e41112d button.colab-df-convert');\n",
              "      buttonEl.style.display =\n",
              "        google.colab.kernel.accessAllowed ? 'block' : 'none';\n",
              "\n",
              "      async function convertToInteractive(key) {\n",
              "        const element = document.querySelector('#df-79108c84-e530-449a-8227-8b994e41112d');\n",
              "        const dataTable =\n",
              "          await google.colab.kernel.invokeFunction('convertToInteractive',\n",
              "                                                    [key], {});\n",
              "        if (!dataTable) return;\n",
              "\n",
              "        const docLinkHtml = 'Like what you see? Visit the ' +\n",
              "          '<a target=\"_blank\" href=https://colab.research.google.com/notebooks/data_table.ipynb>data table notebook</a>'\n",
              "          + ' to learn more about interactive tables.';\n",
              "        element.innerHTML = '';\n",
              "        dataTable['output_type'] = 'display_data';\n",
              "        await google.colab.output.renderOutput(dataTable, element);\n",
              "        const docLink = document.createElement('div');\n",
              "        docLink.innerHTML = docLinkHtml;\n",
              "        element.appendChild(docLink);\n",
              "      }\n",
              "    </script>\n",
              "  </div>\n",
              "\n",
              "\n",
              "<div id=\"df-2e826cfd-05ad-4f37-816f-c31f9b736e6b\">\n",
              "  <button class=\"colab-df-quickchart\" onclick=\"quickchart('df-2e826cfd-05ad-4f37-816f-c31f9b736e6b')\"\n",
              "            title=\"Suggest charts\"\n",
              "            style=\"display:none;\">\n",
              "\n",
              "<svg xmlns=\"http://www.w3.org/2000/svg\" height=\"24px\"viewBox=\"0 0 24 24\"\n",
              "     width=\"24px\">\n",
              "    <g>\n",
              "        <path d=\"M19 3H5c-1.1 0-2 .9-2 2v14c0 1.1.9 2 2 2h14c1.1 0 2-.9 2-2V5c0-1.1-.9-2-2-2zM9 17H7v-7h2v7zm4 0h-2V7h2v10zm4 0h-2v-4h2v4z\"/>\n",
              "    </g>\n",
              "</svg>\n",
              "  </button>\n",
              "\n",
              "<style>\n",
              "  .colab-df-quickchart {\n",
              "      --bg-color: #E8F0FE;\n",
              "      --fill-color: #1967D2;\n",
              "      --hover-bg-color: #E2EBFA;\n",
              "      --hover-fill-color: #174EA6;\n",
              "      --disabled-fill-color: #AAA;\n",
              "      --disabled-bg-color: #DDD;\n",
              "  }\n",
              "\n",
              "  [theme=dark] .colab-df-quickchart {\n",
              "      --bg-color: #3B4455;\n",
              "      --fill-color: #D2E3FC;\n",
              "      --hover-bg-color: #434B5C;\n",
              "      --hover-fill-color: #FFFFFF;\n",
              "      --disabled-bg-color: #3B4455;\n",
              "      --disabled-fill-color: #666;\n",
              "  }\n",
              "\n",
              "  .colab-df-quickchart {\n",
              "    background-color: var(--bg-color);\n",
              "    border: none;\n",
              "    border-radius: 50%;\n",
              "    cursor: pointer;\n",
              "    display: none;\n",
              "    fill: var(--fill-color);\n",
              "    height: 32px;\n",
              "    padding: 0;\n",
              "    width: 32px;\n",
              "  }\n",
              "\n",
              "  .colab-df-quickchart:hover {\n",
              "    background-color: var(--hover-bg-color);\n",
              "    box-shadow: 0 1px 2px rgba(60, 64, 67, 0.3), 0 1px 3px 1px rgba(60, 64, 67, 0.15);\n",
              "    fill: var(--button-hover-fill-color);\n",
              "  }\n",
              "\n",
              "  .colab-df-quickchart-complete:disabled,\n",
              "  .colab-df-quickchart-complete:disabled:hover {\n",
              "    background-color: var(--disabled-bg-color);\n",
              "    fill: var(--disabled-fill-color);\n",
              "    box-shadow: none;\n",
              "  }\n",
              "\n",
              "  .colab-df-spinner {\n",
              "    border: 2px solid var(--fill-color);\n",
              "    border-color: transparent;\n",
              "    border-bottom-color: var(--fill-color);\n",
              "    animation:\n",
              "      spin 1s steps(1) infinite;\n",
              "  }\n",
              "\n",
              "  @keyframes spin {\n",
              "    0% {\n",
              "      border-color: transparent;\n",
              "      border-bottom-color: var(--fill-color);\n",
              "      border-left-color: var(--fill-color);\n",
              "    }\n",
              "    20% {\n",
              "      border-color: transparent;\n",
              "      border-left-color: var(--fill-color);\n",
              "      border-top-color: var(--fill-color);\n",
              "    }\n",
              "    30% {\n",
              "      border-color: transparent;\n",
              "      border-left-color: var(--fill-color);\n",
              "      border-top-color: var(--fill-color);\n",
              "      border-right-color: var(--fill-color);\n",
              "    }\n",
              "    40% {\n",
              "      border-color: transparent;\n",
              "      border-right-color: var(--fill-color);\n",
              "      border-top-color: var(--fill-color);\n",
              "    }\n",
              "    60% {\n",
              "      border-color: transparent;\n",
              "      border-right-color: var(--fill-color);\n",
              "    }\n",
              "    80% {\n",
              "      border-color: transparent;\n",
              "      border-right-color: var(--fill-color);\n",
              "      border-bottom-color: var(--fill-color);\n",
              "    }\n",
              "    90% {\n",
              "      border-color: transparent;\n",
              "      border-bottom-color: var(--fill-color);\n",
              "    }\n",
              "  }\n",
              "</style>\n",
              "\n",
              "  <script>\n",
              "    async function quickchart(key) {\n",
              "      const quickchartButtonEl =\n",
              "        document.querySelector('#' + key + ' button');\n",
              "      quickchartButtonEl.disabled = true;  // To prevent multiple clicks.\n",
              "      quickchartButtonEl.classList.add('colab-df-spinner');\n",
              "      try {\n",
              "        const charts = await google.colab.kernel.invokeFunction(\n",
              "            'suggestCharts', [key], {});\n",
              "      } catch (error) {\n",
              "        console.error('Error during call to suggestCharts:', error);\n",
              "      }\n",
              "      quickchartButtonEl.classList.remove('colab-df-spinner');\n",
              "      quickchartButtonEl.classList.add('colab-df-quickchart-complete');\n",
              "    }\n",
              "    (() => {\n",
              "      let quickchartButtonEl =\n",
              "        document.querySelector('#df-2e826cfd-05ad-4f37-816f-c31f9b736e6b button');\n",
              "      quickchartButtonEl.style.display =\n",
              "        google.colab.kernel.accessAllowed ? 'block' : 'none';\n",
              "    })();\n",
              "  </script>\n",
              "</div>\n",
              "\n",
              "  <div id=\"id_3a392931-64e2-4cd7-999c-a938cdd3745d\">\n",
              "    <style>\n",
              "      .colab-df-generate {\n",
              "        background-color: #E8F0FE;\n",
              "        border: none;\n",
              "        border-radius: 50%;\n",
              "        cursor: pointer;\n",
              "        display: none;\n",
              "        fill: #1967D2;\n",
              "        height: 32px;\n",
              "        padding: 0 0 0 0;\n",
              "        width: 32px;\n",
              "      }\n",
              "\n",
              "      .colab-df-generate:hover {\n",
              "        background-color: #E2EBFA;\n",
              "        box-shadow: 0px 1px 2px rgba(60, 64, 67, 0.3), 0px 1px 3px 1px rgba(60, 64, 67, 0.15);\n",
              "        fill: #174EA6;\n",
              "      }\n",
              "\n",
              "      [theme=dark] .colab-df-generate {\n",
              "        background-color: #3B4455;\n",
              "        fill: #D2E3FC;\n",
              "      }\n",
              "\n",
              "      [theme=dark] .colab-df-generate:hover {\n",
              "        background-color: #434B5C;\n",
              "        box-shadow: 0px 1px 3px 1px rgba(0, 0, 0, 0.15);\n",
              "        filter: drop-shadow(0px 1px 2px rgba(0, 0, 0, 0.3));\n",
              "        fill: #FFFFFF;\n",
              "      }\n",
              "    </style>\n",
              "    <button class=\"colab-df-generate\" onclick=\"generateWithVariable('rhob')\"\n",
              "            title=\"Generate code using this dataframe.\"\n",
              "            style=\"display:none;\">\n",
              "\n",
              "  <svg xmlns=\"http://www.w3.org/2000/svg\" height=\"24px\"viewBox=\"0 0 24 24\"\n",
              "       width=\"24px\">\n",
              "    <path d=\"M7,19H8.4L18.45,9,17,7.55,7,17.6ZM5,21V16.75L18.45,3.32a2,2,0,0,1,2.83,0l1.4,1.43a1.91,1.91,0,0,1,.58,1.4,1.91,1.91,0,0,1-.58,1.4L9.25,21ZM18.45,9,17,7.55Zm-12,3A5.31,5.31,0,0,0,4.9,8.1,5.31,5.31,0,0,0,1,6.5,5.31,5.31,0,0,0,4.9,4.9,5.31,5.31,0,0,0,6.5,1,5.31,5.31,0,0,0,8.1,4.9,5.31,5.31,0,0,0,12,6.5,5.46,5.46,0,0,0,6.5,12Z\"/>\n",
              "  </svg>\n",
              "    </button>\n",
              "    <script>\n",
              "      (() => {\n",
              "      const buttonEl =\n",
              "        document.querySelector('#id_3a392931-64e2-4cd7-999c-a938cdd3745d button.colab-df-generate');\n",
              "      buttonEl.style.display =\n",
              "        google.colab.kernel.accessAllowed ? 'block' : 'none';\n",
              "\n",
              "      buttonEl.onclick = () => {\n",
              "        google.colab.notebook.generateWithVariable('rhob');\n",
              "      }\n",
              "      })();\n",
              "    </script>\n",
              "  </div>\n",
              "\n",
              "    </div>\n",
              "  </div>\n"
            ],
            "application/vnd.google.colaboratory.intrinsic+json": {
              "type": "dataframe",
              "variable_name": "rhob"
            }
          },
          "metadata": {},
          "execution_count": 4
        }
      ]
    },
    {
      "cell_type": "code",
      "source": [
        "\n",
        "df_path_list = [\n",
        "    \"data/rhob.csv\",\n",
        "    \"data/vph.csv\",\n",
        "    \"data/x.csv\",\n",
        "    \"data/y.csv\",\n",
        "]\n",
        "df_list = [pd.read_csv(path, index_col=None, header=None, sep=\";\") for path in df_path_list]\n",
        "[df.dropna(inplace=True) for df in df_list]\n",
        "for df in df_list:\n",
        "  for col in df.columns:\n",
        "    try:\n",
        "      df[col] = df[col].str.replace(\",\", \".\").astype(float).values\n",
        "    except:\n",
        "      df.values\n",
        "\n",
        "array = np.stack(df_list)\n",
        "array.shape"
      ],
      "metadata": {
        "colab": {
          "base_uri": "https://localhost:8080/"
        },
        "id": "WlPjVYdLyBsx",
        "outputId": "a1d24ca2-bf42-465a-ff0b-6973fe10a2ba"
      },
      "execution_count": 5,
      "outputs": [
        {
          "output_type": "execute_result",
          "data": {
            "text/plain": [
              "(4, 13, 31)"
            ]
          },
          "metadata": {},
          "execution_count": 5
        }
      ]
    },
    {
      "cell_type": "code",
      "source": [
        "plt.imshow(np.flip(array[3, :, :]))"
      ],
      "metadata": {
        "colab": {
          "base_uri": "https://localhost:8080/",
          "height": 285
        },
        "id": "54xdQPCh2yg0",
        "outputId": "3379dc1e-24b3-4506-8587-4e6bc75cbb1e"
      },
      "execution_count": 6,
      "outputs": [
        {
          "output_type": "execute_result",
          "data": {
            "text/plain": [
              "<matplotlib.image.AxesImage at 0x7d1132c64bd0>"
            ]
          },
          "metadata": {},
          "execution_count": 6
        },
        {
          "output_type": "display_data",
          "data": {
            "text/plain": [
              "<Figure size 640x480 with 1 Axes>"
            ],
            "image/png": "[encoded data removed]"
          },
          "metadata": {}
        }
      ]
    },
    {
      "cell_type": "markdown",
      "source": [
        "# Accoustic impedance\n",
        "The formula for accoustic impedance is :\n",
        "$$I_i=\\rho_i \\times v_i$$\n",
        "\n",
        "So to calculate it, we simply need to multiply the first layer in array to the second one."
      ],
      "metadata": {
        "id": "QEQb6jTyAwmB"
      }
    },
    {
      "cell_type": "code",
      "source": [
        "impedance_matrix = np.flip(array[0, :, :] * array[1, :, :])\n",
        "plt.imshow(impedance_matrix)\n",
        "plt.title(\"Accoustic impedance\")"
      ],
      "metadata": {
        "colab": {
          "base_uri": "https://localhost:8080/",
          "height": 308
        },
        "id": "IObZNKXq_W27",
        "outputId": "b4699bc5-68fc-4fc3-8791-88f168b097d6"
      },
      "execution_count": 7,
      "outputs": [
        {
          "output_type": "execute_result",
          "data": {
            "text/plain": [
              "Text(0.5, 1.0, 'Accoustic impedance')"
            ]
          },
          "metadata": {},
          "execution_count": 7
        },
        {
          "output_type": "display_data",
          "data": {
            "text/plain": [
              "<Figure size 640x480 with 1 Axes>"
            ],
            "image/png": "[encoded data removed]"
          },
          "metadata": {}
        }
      ]
    },
    {
      "cell_type": "markdown",
      "source": [
        "# Reflection coefficient\n",
        "$$R_o=\\frac{I_{i+1}-I_i}{I_{i+1}+I_i}$$\n",
        "Where I is the impedance calculated above.\n",
        "\n",
        "This operation is 1D and is deployed on vertical axis. Here are vertical axis is represented by y."
      ],
      "metadata": {
        "id": "yP0l-1aghXmp"
      }
    },
    {
      "cell_type": "code",
      "source": [
        "I     = np.roll(impedance_matrix, shift=1, axis=0)[:-1, :] # n+1\n",
        "In1  = impedance_matrix[1:, :] # n\n",
        "reflection_coeff = (In1 - I) / (In1 + I)\n",
        "plt.imshow(reflection_coeff)"
      ],
      "metadata": {
        "colab": {
          "base_uri": "https://localhost:8080/",
          "height": 269
        },
        "id": "_p3lolgJhXIL",
        "outputId": "5a813236-c417-427e-cade-fcee3ea5d30b"
      },
      "execution_count": 8,
      "outputs": [
        {
          "output_type": "execute_result",
          "data": {
            "text/plain": [
              "<matplotlib.image.AxesImage at 0x7d1130accb10>"
            ]
          },
          "metadata": {},
          "execution_count": 8
        },
        {
          "output_type": "display_data",
          "data": {
            "text/plain": [
              "<Figure size 640x480 with 1 Axes>"
            ],
            "image/png": "[encoded data removed]"
          },
          "metadata": {}
        }
      ]
    },
    {
      "cell_type": "markdown",
      "source": [
        "## Fish bone plot\n",
        "This represents the variations along a given vertical axis."
      ],
      "metadata": {
        "id": "HaEx6FfvYqyf"
      }
    },
    {
      "cell_type": "code",
      "source": [
        "plt.stem(reflection_coeff[:, 1], orientation='horizontal')\n",
        "plt.gca().invert_yaxis()"
      ],
      "metadata": {
        "colab": {
          "base_uri": "https://localhost:8080/",
          "height": 430
        },
        "id": "1TwhWgIwWkr7",
        "outputId": "be1e6032-520c-495f-dc7c-c9dbb70a525d"
      },
      "execution_count": 9,
      "outputs": [
        {
          "output_type": "display_data",
          "data": {
            "text/plain": [
              "<Figure size 640x480 with 1 Axes>"
            ],
            "image/png": "[encoded data removed]"
          },
          "metadata": {}
        }
      ]
    },
    {
      "cell_type": "markdown",
      "source": [
        "# Seismic wavelet"
      ],
      "metadata": {
        "id": "vZgaO2sOw2xl"
      }
    },
    {
      "cell_type": "code",
      "source": [
        "\n",
        "def create_wavelet(offset, amplitude, length=0.256, frequency=40, sample_intervall=0.01):\n",
        "  w, t = bf.ricker(length, sample_intervall, frequency)\n",
        "  t += offset\n",
        "  w *= amplitude\n",
        "  return w,t\n",
        "\n",
        "w, t = create_wavelet(1.5, 0.2, sample_intervall=0.001)\n",
        "plt.plot(w, t)\n",
        "plt.scatter(w,t )"
      ],
      "metadata": {
        "id": "aG1EZcnuw5YI",
        "outputId": "2e1e2227-1b48-49e4-d242-2ccd246bb36d",
        "colab": {
          "base_uri": "https://localhost:8080/",
          "height": 447
        }
      },
      "execution_count": 10,
      "outputs": [
        {
          "output_type": "execute_result",
          "data": {
            "text/plain": [
              "<matplotlib.collections.PathCollection at 0x7d113099e310>"
            ]
          },
          "metadata": {},
          "execution_count": 10
        },
        {
          "output_type": "display_data",
          "data": {
            "text/plain": [
              "<Figure size 640x480 with 1 Axes>"
            ],
            "image/png": "[encoded data removed]"
          },
          "metadata": {}
        }
      ]
    },
    {
      "cell_type": "code",
      "source": [
        "rc = reflection_coeff[0,:]\n",
        "#syn = bf.convolve(rc,w)\n",
        "syn = np.convolve(rc2, w2, mode='same')"
      ],
      "metadata": {
        "id": "4L19vAMsw6v_"
      },
      "execution_count": 35,
      "outputs": []
    },
    {
      "cell_type": "code",
      "source": [
        "import numpy as np\n",
        "\n",
        "def expand_with_zeros(arr, target_length):\n",
        "    \"\"\"Étend un tableau en insérant des zéros aux nouvelles positions\"\"\"\n",
        "    if len(arr) == target_length:\n",
        "        return arr\n",
        "\n",
        "    new_arr = np.zeros(target_length)\n",
        "    indices = np.linspace(0, target_length - 1, len(arr), dtype=int)\n",
        "\n",
        "    for i, index in enumerate(indices):\n",
        "        new_arr[index] = arr[i]\n",
        "\n",
        "    return list(new_arr)\n",
        "\n",
        "def equalize_arrays(arr1, arr2):\n",
        "    max_length = max(len(arr1), len(arr2))\n",
        "\n",
        "    arr1_expanded = expand_with_zeros(arr1, max_length)\n",
        "    arr2_expanded = expand_with_zeros(arr2, max_length)\n",
        "\n",
        "    return arr1_expanded, arr2_expanded\n",
        "\n",
        "# Exemple\n",
        "\n",
        "rc2, w2 = equalize_arrays(rc, w)\n",
        "\n",
        "\n"
      ],
      "metadata": {
        "id": "fWWUIg1hywYc"
      },
      "execution_count": 34,
      "outputs": []
    },
    {
      "cell_type": "code",
      "source": [
        "plt.plot(rc2)\n",
        "plt.plot(w2)"
      ],
      "metadata": {
        "id": "PBzZyNMayDm8",
        "outputId": "16e97ca9-e2a1-4130-dc05-4e82aa409d16",
        "colab": {
          "base_uri": "https://localhost:8080/",
          "height": 447
        }
      },
      "execution_count": 37,
      "outputs": [
        {
          "output_type": "execute_result",
          "data": {
            "text/plain": [
              "[<matplotlib.lines.Line2D at 0x7d112c6ede90>]"
            ]
          },
          "metadata": {},
          "execution_count": 37
        },
        {
          "output_type": "display_data",
          "data": {
            "text/plain": [
              "<Figure size 640x480 with 1 Axes>"
            ],
            "image/png": "[encoded data removed]"
          },
          "metadata": {}
        }
      ]
    },
    {
      "cell_type": "code",
      "source": [
        "plt.plot(syn)\n",
        "plt.plot(rc2)\n",
        "plt.plot(w)"
      ],
      "metadata": {
        "id": "s6KcxfQWw-nL",
        "outputId": "4b6a3c9a-31d3-416a-ff2c-983e11a69b27",
        "colab": {
          "base_uri": "https://localhost:8080/",
          "height": 447
        }
      },
      "execution_count": 38,
      "outputs": [
        {
          "output_type": "execute_result",
          "data": {
            "text/plain": [
              "[<matplotlib.lines.Line2D at 0x7d112c673ad0>]"
            ]
          },
          "metadata": {},
          "execution_count": 38
        },
        {
          "output_type": "display_data",
          "data": {
            "text/plain": [
              "<Figure size 640x480 with 1 Axes>"
            ],
            "image/png": "[encoded data removed]"
          },
          "metadata": {}
        }
      ]
    }
  ]
}